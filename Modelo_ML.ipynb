{
  "nbformat": 4,
  "nbformat_minor": 0,
  "metadata": {
    "colab": {
      "provenance": [],
      "authorship_tag": "ABX9TyMYSBJtSG5dBYC+VqDdLMOP",
      "include_colab_link": true
    },
    "kernelspec": {
      "name": "python3",
      "display_name": "Python 3"
    },
    "language_info": {
      "name": "python"
    }
  },
  "cells": [
    {
      "cell_type": "markdown",
      "metadata": {
        "id": "view-in-github",
        "colab_type": "text"
      },
      "source": [
        "<a href=\"https://colab.research.google.com/github/DavoFlow/ejercicio-1/blob/main/Modelo_ML.ipynb\" target=\"_parent\"><img src=\"https://colab.research.google.com/assets/colab-badge.svg\" alt=\"Open In Colab\"/></a>"
      ]
    },
    {
      "cell_type": "code",
      "execution_count": null,
      "metadata": {
        "id": "F0SEZzfnizRK"
      },
      "outputs": [],
      "source": [
        "import numpy as np\n",
        "import pandas as pd\n",
        "import matplotlib.pyplot as plt\n",
        "import seaborn as sns\n",
        "#-------------------------------------\n",
        "from sklearn.model_selection import train_test_split\n",
        "from sklearn.preprocessing import StandardScaler\n",
        "from sklearn.ensemble import RandomForestClassifier\n",
        "from sklearn.metrics import classification_report, confusion_matrix, accuracy_score\n",
        "from sklearn.datasets import load_breast_cancer\n",
        "#--------------------------------------------------\n",
        "#configurar estilos de los grafico\n",
        "plt.style.use('ggplot')\n",
        "%matplotlib inline\n",
        "#-----------------------------------------------------\n",
        "# 1. cargar y explorar los datos\n",
        "#tratar que los datos no sean tan planos y que sean más graficos\n",
        "\n",
        "print(\"======1. Cargando y explorando los datos ===\")\n",
        "data = load_breast_cancer()\n",
        "df=pd.DataFrame(data.data, columns=data.feature_names)\n",
        "df['target'] = data.target\n",
        "print(\"\\nPrimeras 5 filas de dataset:\")\n",
        "print(df.head())\n",
        "#enviar la información clasificando las variables, luego se puede clasificar por\n",
        "#periodos pequeños o rangos específicos\n",
        "\n",
        "print (\"\\nInformación del dataset\")\n",
        "print(df.info())\n",
        "print('\\nEstadisticas descriptivas')\n",
        "print(df.describe())\n",
        "\n",
        "#visualización de los datos, analítica descriptiva visual\n",
        "print('\\n===2. Visualización de datos===')\n",
        "plt.figure(figsize=(12,8))\n",
        "sns.countplot(x='target', data=df)\n",
        "plt.title('Distribucción de casos (0: Maligno, 1: Benogno)')\n",
        "plt.show()\n",
        "#Histogramas de las caracteristicas\n",
        "df.drop('target', axis=1).hist(bins=20, figsize=(20, 15))\n",
        "plt.suptitle('Distribución de características', y=1.02)\n",
        "plt.show()\n",
        "# MATRIZ DE CORRELACION\n",
        "plt.figure(figsize=(15,10))\n",
        "sns.heatmap(df.corr(), annot=False, cmap='coolwarm')\n",
        "plt.title('Matriz de correlacion entre caracteristicas')\n",
        "plt.show()\n",
        "# PREPROCESAMIENTO DE DATOS\n",
        "print('\\n===3. Preprocesamiento de datos===')\n",
        "x=df.drop('target', axis=1)\n",
        "y=df['target']\n",
        "# Dividir en conjuntos de entrenamiento y prueba\n",
        "x_train, x_test, y_train, y_test = train_test_split(x, y, test_size=0.3, random_state=42)\n",
        "# ESCALAR CARACTERISTICAS\n",
        "scaler = StandardScaler()\n",
        "x_train = scaler.fit_transform(x_train)\n",
        "x_test = scaler.transform(x_test)\n",
        "print(\"===SALIDAS===\")\n",
        "print(f\"\\nFORMA de los datos de entranamiento: {x_train.shape}\")\n",
        "print(f\"Forma de los datos de prueba: {x_test.shape}\")\n",
        "# Entrenamiento del modelo\n",
        "print('\\n===4. Entrenamiento del modelo===')\n",
        "model = RandomForestClassifier(n_estimators=100, random_state=42)\n",
        "model.fit(x_train, y_train)\n",
        "# Evaluacion del modelo\n",
        "print('\\n===5. Evaluacion del modelo===')\n",
        "y_pred = model.predict(x_test)\n",
        "print(\"\\n==Reporte de clasificacion==\")\n",
        "print(classification_report(y_test, y_pred))\n",
        "#=======================================================\n",
        "# Las matrices de confusion son herramientas esenciales en el\n",
        "# aprendizaje automatico, especialmente para evaluar el rendimiento\n",
        "# de modelos de clasificacion. Permiten visualizar y analizar la precision\n",
        "# de las predicciones, identicando errores comunes y areas donde el\n",
        "# modelo necesita mejoras.\n",
        "print(\"\\nMatriz de confusion:\")\n",
        "plt.figure(figsize=(8, 6))\n",
        "sns.heatmap(confusion_matrix(y_test, y_pred), annot=True, fmt='d' , cmap='Blues')\n",
        "plt.title('Matriz de confusion')\n",
        "plt.xlabel('predicho')\n",
        "plt.ylabel('Real')\n",
        "plt.show()\n",
        "# ================================================\n",
        "print(f\"\\nPresicion del modelo: {accuracy_score(y_test,y_pred):.2f}\")\n",
        "# IMPORTANCIA DE LAS CARACTERISTICAS\n",
        "print(\"\\n==6. Importancia de las caracteristicas=====\")\n",
        "feature_importances = pd.Series(model.feature_importances_, index=data.feature_names)\n",
        "feature_importances.nlargest(10).plot(kind='barh' , figsize=(10, 8))\n",
        "plt.title('Importancia de las caracteristicas')\n",
        "plt.show()\n",
        "\n",
        "# PREDECCION DE EJEMPLO\n",
        "print('\\n==7. Predeccion de ejemplo ===')\n",
        "sample = x_test[0].reshape(1,-1)\n",
        "prediccion=model_predict(sample)\n",
        "print(f\"Prediccion para muestra de ejemplo o de prueba: {'Benigno' if prediccion[0]==1 else 'Malingo'}\")\n",
        "print(f\"Etiqueta real: {'Benigno' if y_test.iloc[0] == 1 else 'Maligno'}\")\n"
      ]
    },
    {
      "cell_type": "markdown",
      "source": [],
      "metadata": {
        "id": "-ZCLmMxaoE0f"
      }
    },
    {
      "cell_type": "markdown",
      "source": [
        "# Ejercicio 1\n",
        "## Presentación de Markdown\n",
        "### Explicación del código:\n",
        "* Librerías utilizadas en la codificación\n",
        "\n",
        "1. numpy/pandas: Manipulación de datos.\n",
        "2. matplotlib/seaborn:Visualización.\n",
        "3. sickit-learn:Machine learning (modelo de procesamiento y de clasificación binaria)\n",
        "4. Dataset: usamos el dataset de cáncer de mama de wisconsin\n",
        "*   30 características numéricas\n",
        "*   variables objetivo binaria (0:maligno, 1:benigno)\n",
        "## Visualizaciones incluidas\n",
        "1. Distribución de clases objetivo\n",
        "2. Histogramas de todas las características\n",
        "3. Matriz de correlación entre características\n",
        "4. Martriz de confusión del modelo\n",
        "5. Importancia de características(Top 10)\n",
        "### Modelo de machine learning\n",
        "- *Random Forest:* ALgoritmo potente para clasificación\n",
        "- *Procesamiento:* Escalado estándar de características\n",
        "- *Evaluación:* Reporte de clasifícación, precisión, matriz de confusión.\n",
        "# *5. Cómo ejecutarlo*\n",
        "-Copia este código en un jupyer notebook o script.py\n",
        "Asegúrate de tener instaladas las librerías:\n",
        "''bash\n",
        "  pip install numpy\n",
        "  pip install pandas\n",
        "  pip install matplotlib\n",
        "  pip install seaborn\n",
        "  pip install sickit-learn\n",
        "\n",
        "-Copia y pega este código en tu terminal, o ejecuta celda por celda en tu jupyter o todo el script\n",
        "# **6. Posibles mejoras**\n",
        "\n",
        "- Ajustes hiperparámetros con GridSearchCV\n",
        "- Validación cruzada\n",
        "- Prueba con otros algoritmos (S\\M,XGBoost,etc.)\n",
        "- Análisis más detallado de características\n",
        "\n",
        "**Este código proporciona un flujo completo de ML con visualizaciones profesionales lsitas para presentaciones o informes.**\n"
      ],
      "metadata": {
        "id": "ARgvNjtZ_B_R"
      }
    },
    {
      "cell_type": "code",
      "source": [
        "# Ejercicio 1\n",
        "##"
      ],
      "metadata": {
        "id": "Z0GRIE9U9aLL"
      },
      "execution_count": null,
      "outputs": []
    },
    {
      "cell_type": "markdown",
      "source": [],
      "metadata": {
        "id": "vbWXY8Aj-_mw"
      }
    }
  ]
}